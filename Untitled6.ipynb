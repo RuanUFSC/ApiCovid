{
  "nbformat": 4,
  "nbformat_minor": 0,
  "metadata": {
    "colab": {
      "name": "Untitled6.ipynb",
      "provenance": [],
      "collapsed_sections": [],
      "authorship_tag": "ABX9TyMqn3SLduptWKAfHDbsO621",
      "include_colab_link": true
    },
    "kernelspec": {
      "name": "python3",
      "display_name": "Python 3"
    },
    "language_info": {
      "name": "python"
    }
  },
  "cells": [
    {
      "cell_type": "markdown",
      "metadata": {
        "id": "view-in-github",
        "colab_type": "text"
      },
      "source": [
        "<a href=\"https://colab.research.google.com/github/RuanUFSC/ApiCovid/blob/main/Untitled6.ipynb\" target=\"_parent\"><img src=\"https://colab.research.google.com/assets/colab-badge.svg\" alt=\"Open In Colab\"/></a>"
      ]
    },
    {
      "cell_type": "code",
      "execution_count": 23,
      "metadata": {
        "colab": {
          "base_uri": "https://localhost:8080/"
        },
        "id": "aSpIssyTL0rc",
        "outputId": "2f2ff841-48a9-427a-ddc8-f2d48ce54f66"
      },
      "outputs": [
        {
          "output_type": "stream",
          "name": "stdout",
          "text": [
            "Qual é o seu ano de nascimento?1998\n",
            "Qual é a sua altura em centímetros?176\n",
            "Quantos kg você pesa?65\n",
            "Este ano você completa 24 anos de idade, parabéns!\n",
            "Seu IMC atualmente é 20.98, está no nível normal\n"
          ]
        }
      ],
      "source": [
        "nascimento = int(input('Qual é o seu ano de nascimento?'))\n",
        "altura = float(input('Qual é a sua altura em centímetros?'))\n",
        "peso = float(input('Quantos kg você pesa?'))\n",
        "idade = (2022-nascimento)\n",
        "imc = peso/((altura/100)*(altura/100))\n",
        "print(f'Este ano você completa {idade} anos de idade, parabéns!')\n",
        "if imc < 18.5:\n",
        "  print(f'Seu IMC atualmente é {imc:.2f}, está no nível de magreza')\n",
        "elif imc < 24.9:\n",
        "  print(f'Seu IMC atualmente é {imc:.2f}, está no nível normal')\n",
        "elif imc < 29.9:\n",
        "  print(f'Seu IMC atualmente é {imc:.2f}, está no nível de sobrepeso')\n",
        "elif imc < 39.9:\n",
        "  print(f'Seu IMC atualmente é {imc:.2f}, está no nível de obesidade')\n",
        "else:\n",
        "  print(f'Seu IMC atualmente é {imc:.2f}, está no nível de obesidade grave')"
      ]
    }
  ]
}